{
 "cells": [
  {
   "cell_type": "code",
   "execution_count": 1,
   "id": "89aee20a-1916-4de2-8184-8682b53d0924",
   "metadata": {},
   "outputs": [],
   "source": [
    "#pragma cling add_include_path(\"/home/pschatzmann/Arduino/libraries/arduino-audio-tools/src\")\n",
    "#include \"AudioTools.h\"\n",
    "#include \"AudioLibs/Jupyter.h\"\n",
    "#include \"AudioCodecs/ContainerMPEG4.h\"\n",
    "\n",
    "AudioLogger::instance().begin(Serial, AudioLogger::Info);\n"
   ]
  },
  {
   "cell_type": "code",
   "execution_count": 2,
   "id": "ef110e32-ef20-4faf-a25e-99a52b0ba392",
   "metadata": {},
   "outputs": [],
   "source": [
    "ContainerMP4 mp4{Serial};\n",
    "auto file = SD.open(\"/home/pschatzmann/Downloads/test.m4a\", FILE_READ);\n",
    "StreamCopy copier(mp4,file);"
   ]
  },
  {
   "cell_type": "code",
   "execution_count": null,
   "id": "58bd2f6e-607c-46b9-a4bd-6065dfa88a7b",
   "metadata": {},
   "outputs": [],
   "source": [
    "copier.copy()"
   ]
  },
  {
   "cell_type": "code",
   "execution_count": null,
   "id": "35400c1d-df70-4499-96b9-f0d5fe2a8770",
   "metadata": {},
   "outputs": [],
   "source": []
  }
 ],
 "metadata": {
  "kernelspec": {
   "display_name": "C++17",
   "language": "C++17",
   "name": "xcpp17"
  },
  "language_info": {
   "codemirror_mode": "text/x-c++src",
   "file_extension": ".cpp",
   "mimetype": "text/x-c++src",
   "name": "c++",
   "version": "17"
  }
 },
 "nbformat": 4,
 "nbformat_minor": 5
}
